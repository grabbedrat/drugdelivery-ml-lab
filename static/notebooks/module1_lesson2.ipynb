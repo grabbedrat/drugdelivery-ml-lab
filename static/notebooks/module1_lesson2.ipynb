{
 "cells": [
  {
   "cell_type": "markdown",
   "metadata": {},
   "source": [
    "# Module 1, Lesson 2: Data Preprocessing and Feature Engineering"
   ]
  },
  {
   "cell_type": "markdown",
   "metadata": {},
   "source": [
    "## Introduction\n",
    "\n",
    "In this notebook, we will explore practical examples of data preprocessing and feature engineering techniques using Python libraries such as NumPy, Pandas, and Scikit-learn. We will cover the following topics:\n",
    "\n",
    "1. Handling missing data\n",
    "2. Data normalization and standardization\n",
    "3. Dealing with categorical variables\n",
    "4. Feature scaling\n",
    "5. Feature selection\n",
    "6. Dimensionality reduction"
   ]
  },
  {
   "cell_type": "markdown",
   "metadata": {},
   "source": [
    "## Requirements\n",
    "\n",
    "Before we start, make sure you have the following libraries installed:\n",
    "\n",
    "- NumPy\n",
    "- Pandas\n",
    "- Scikit-learn\n",
    "\n",
    "You can install them using the following command:\n",
    "\n",
    "```\n",
    "pip install numpy pandas scikit-learn\n",
    "```"
   ]
  },
  {
   "cell_type": "code",
   "execution_count": 1,
   "metadata": {},
   "outputs": [],
   "source": [
    "import numpy as np\n",
    "import pandas as pd\n",
    "from sklearn.impute import SimpleImputer\n",
    "from sklearn.preprocessing import MinMaxScaler, StandardScaler, OneHotEncoder, LabelEncoder\n",
    "from sklearn.feature_selection import SelectKBest, f_classif, RFE\n",
    "from sklearn.decomposition import PCA\n",
    "from sklearn.manifold import TSNE\n",
    "import matplotlib.pyplot as plt"
   ]
  },
  {
   "cell_type": "markdown",
   "metadata": {},
   "source": [
    "## Handling Missing Data"
   ]
  },
  {
   "cell_type": "code",
   "execution_count": 2,
   "metadata": {},
   "outputs": [
    {
     "name": "stdout",
     "output_type": "stream",
     "text": [
      "Original Data:\n",
      "     A    B     C\n",
      "0  1.0  5.0   9.0\n",
      "1  2.0  NaN  10.0\n",
      "2  NaN  7.0  11.0\n",
      "3  4.0  8.0   NaN\n",
      "\n",
      "Imputed Data:\n",
      "[[ 1.          5.          9.        ]\n",
      " [ 2.          6.66666667 10.        ]\n",
      " [ 2.33333333  7.         11.        ]\n",
      " [ 4.          8.         10.        ]]\n"
     ]
    }
   ],
   "source": [
    "# Create a sample dataset with missing values\n",
    "data = pd.DataFrame({\n",
    "    'A': [1, 2, np.nan, 4],\n",
    "    'B': [5, np.nan, 7, 8],\n",
    "    'C': [9, 10, 11, np.nan]\n",
    "})\n",
    "\n",
    "# Impute missing values using mean imputation\n",
    "imputer = SimpleImputer(strategy='mean')\n",
    "imputed_data = imputer.fit_transform(data)\n",
    "\n",
    "print(\"Original Data:\")\n",
    "print(data)\n",
    "print(\"\\nImputed Data:\")\n",
    "print(imputed_data)"
   ]
  },
  {
   "cell_type": "markdown",
   "metadata": {},
   "source": [
    "## Data Normalization and Standardization"
   ]
  },
  {
   "cell_type": "code",
   "execution_count": 3,
   "metadata": {},
   "outputs": [
    {
     "name": "stdout",
     "output_type": "stream",
     "text": [
      "Original Data:\n",
      "   A   B\n",
      "0  1  10\n",
      "1  2  20\n",
      "2  3  30\n",
      "3  4  40\n",
      "\n",
      "Normalized Data:\n",
      "[[0.         0.        ]\n",
      " [0.33333333 0.33333333]\n",
      " [0.66666667 0.66666667]\n",
      " [1.         1.        ]]\n",
      "\n",
      "Standardized Data:\n",
      "[[-1.34164079 -1.34164079]\n",
      " [-0.4472136  -0.4472136 ]\n",
      " [ 0.4472136   0.4472136 ]\n",
      " [ 1.34164079  1.34164079]]\n"
     ]
    }
   ],
   "source": [
    "# Create a sample dataset\n",
    "data = pd.DataFrame({\n",
    "    'A': [1, 2, 3, 4],\n",
    "    'B': [10, 20, 30, 40]\n",
    "})\n",
    "\n",
    "# Normalize the data using Min-Max scaling\n",
    "scaler = MinMaxScaler()\n",
    "normalized_data = scaler.fit_transform(data)\n",
    "\n",
    "# Standardize the data using Z-score standardization\n",
    "scaler = StandardScaler()\n",
    "standardized_data = scaler.fit_transform(data)\n",
    "\n",
    "print(\"Original Data:\")\n",
    "print(data)\n",
    "print(\"\\nNormalized Data:\")\n",
    "print(normalized_data)\n",
    "print(\"\\nStandardized Data:\")\n",
    "print(standardized_data)"
   ]
  },
  {
   "cell_type": "markdown",
   "metadata": {},
   "source": [
    "## Dealing with Categorical Variables"
   ]
  },
  {
   "cell_type": "code",
   "execution_count": 4,
   "metadata": {},
   "outputs": [
    {
     "name": "stdout",
     "output_type": "stream",
     "text": [
      "Original Data:\n",
      "   Color    Size  Color_Encoded  Size_Encoded\n",
      "0    Red   Small              2             2\n",
      "1   Blue  Medium              0             1\n",
      "2  Green   Large              1             0\n",
      "3    Red  Medium              2             1\n",
      "\n",
      "One-Hot Encoded Data:\n",
      "[[0. 0. 1. 0. 0. 1.]\n",
      " [1. 0. 0. 0. 1. 0.]\n",
      " [0. 1. 0. 1. 0. 0.]\n",
      " [0. 0. 1. 0. 1. 0.]]\n",
      "\n",
      "Label Encoded Data:\n",
      "   Color_Encoded  Size_Encoded\n",
      "0              2             2\n",
      "1              0             1\n",
      "2              1             0\n",
      "3              2             1\n"
     ]
    }
   ],
   "source": [
    "# Create a sample dataset with categorical variables\n",
    "data = pd.DataFrame({\n",
    "    'Color': ['Red', 'Blue', 'Green', 'Red'],\n",
    "    'Size': ['Small', 'Medium', 'Large', 'Medium']\n",
    "})\n",
    "\n",
    "# Perform one-hot encoding\n",
    "encoder = OneHotEncoder()\n",
    "encoded_data = encoder.fit_transform(data).toarray()\n",
    "\n",
    "# Perform label encoding\n",
    "label_encoder = LabelEncoder()\n",
    "data['Color_Encoded'] = label_encoder.fit_transform(data['Color'])\n",
    "data['Size_Encoded'] = label_encoder.fit_transform(data['Size'])\n",
    "\n",
    "print(\"Original Data:\")\n",
    "print(data)\n",
    "print(\"\\nOne-Hot Encoded Data:\")\n",
    "print(encoded_data)\n",
    "print(\"\\nLabel Encoded Data:\")\n",
    "print(data[['Color_Encoded', 'Size_Encoded']])"
   ]
  },
  {
   "cell_type": "markdown",
   "metadata": {},
   "source": [
    "## Feature Selection"
   ]
  },
  {
   "cell_type": "code",
   "execution_count": 6,
   "metadata": {},
   "outputs": [
    {
     "name": "stdout",
     "output_type": "stream",
     "text": [
      "Original Features:\n",
      "[[ 1  2  3]\n",
      " [ 4  5  6]\n",
      " [ 7  8  9]\n",
      " [10 11 12]]\n",
      "\n",
      "Selected Features (Univariate):\n",
      "[[ 2  3]\n",
      " [ 5  6]\n",
      " [ 8  9]\n",
      " [11 12]]\n",
      "\n",
      "Selected Features (RFE):\n",
      "[[ 2  3]\n",
      " [ 5  6]\n",
      " [ 8  9]\n",
      " [11 12]]\n"
     ]
    }
   ],
   "source": [
    "from sklearn.linear_model import LogisticRegression\n",
    "# Create a sample dataset\n",
    "X = np.array([[1, 2, 3], [4, 5, 6], [7, 8, 9], [10, 11, 12]])\n",
    "y = np.array([0, 1, 0, 1])\n",
    "\n",
    "# Perform univariate feature selection\n",
    "selector = SelectKBest(score_func=f_classif, k=2)\n",
    "selected_features = selector.fit_transform(X, y)\n",
    "\n",
    "# Perform recursive feature elimination\n",
    "estimator = LogisticRegression()\n",
    "selector = RFE(estimator, n_features_to_select=2, step=1)\n",
    "selected_features_rfe = selector.fit_transform(X, y)\n",
    "\n",
    "print(\"Original Features:\")\n",
    "print(X)\n",
    "print(\"\\nSelected Features (Univariate):\")\n",
    "print(selected_features)\n",
    "print(\"\\nSelected Features (RFE):\")\n",
    "print(selected_features_rfe)"
   ]
  },
  {
   "cell_type": "markdown",
   "metadata": {},
   "source": [
    "## Dimensionality Reduction"
   ]
  },
  {
   "cell_type": "code",
   "execution_count": 11,
   "metadata": {},
   "outputs": [
    {
     "data": {
      "image/png": "[encoded data removed]",
      "text/plain": [
       "<Figure size 1000x400 with 2 Axes>"
      ]
     },
     "metadata": {},
     "output_type": "display_data"
    }
   ],
   "source": [
    "# Create a sample dataset\n",
    "import matplotlib.pyplot as plt\n",
    "\n",
    "# Create a sample dataset\n",
    "X = np.array([[1, 2, 3], [4, 5, 6], [7, 8, 9], [10, 11, 12]])\n",
    "\n",
    "# Perform PCA\n",
    "# Perform t-SNE with reduced perplexity\n",
    "tsne = TSNE(n_components=2, perplexity=2)  # Set perplexity to a lower value\n",
    "tsne_result = tsne.fit_transform(X)\n",
    "\n",
    "# Plotting\n",
    "fig, (ax1, ax2) = plt.subplots(1, 2, figsize=(10, 4))\n",
    "\n",
    "ax1.set_ylabel('PC2')\n",
    "\n",
    "ax2.scatter(tsne_result[:, 0], tsne_result[:, 1])\n",
    "ax2.set_title('t-SNE')\n",
    "ax2.set_xlabel('Dimension 1')\n",
    "ax2.set_ylabel('Dimension 2')\n",
    "\n",
    "plt.tight_layout()\n",
    "plt.show()"
   ]
  },
  {
   "cell_type": "markdown",
   "metadata": {},
   "source": [
    "## Conclusion\n",
    "\n",
    "In this notebook, we explored various data preprocessing and feature engineering techniques using Python libraries. We covered handling missing data, data normalization and standardization, dealing with categorical variables, feature scaling, feature selection, and dimensionality reduction.\n",
    "\n",
    "These techniques are crucial for preparing data for machine learning models and improving their performance. By applying these techniques, we can ensure that our data is clean, structured, and relevant for the task at hand.\n",
    "\n",
    "Feel free to experiment with different datasets and parameters to further solidify your understanding of these concepts."
   ]
  }
 ],
 "metadata": {
  "kernelspec": {
   "display_name": "Python 3",
   "language": "python",
   "name": "python3"
  },
  "language_info": {
   "codemirror_mode": {
    "name": "ipython",
    "version": 3
   },
   "file_extension": ".py",
   "mimetype": "text/x-python",
   "name": "python",
   "nbconvert_exporter": "python",
   "pygments_lexer": "ipython3",
   "version": "3.10.14"
  }
 },
 "nbformat": 4,
 "nbformat_minor": 4
}
