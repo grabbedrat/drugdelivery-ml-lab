{
 "cells": [
  {
   "cell_type": "markdown",
   "metadata": {
    "id": "cmj1yVpfyzMw"
   },
   "source": [
    "# Module 1, Lesson 1: Molecular Representation and Descriptors"
   ]
  },
  {
   "cell_type": "markdown",
   "metadata": {
    "id": "UCKhIh-oyzMy"
   },
   "source": [
    "## Introduction\n",
    "\n",
    "In this notebook, we will explore practical examples of molecular representation and descriptor calculation using the RDKit library in Python. We will cover the following topics:\n",
    "\n",
    "1. Converting molecules between SMILES and InChI representations\n",
    "2. Generating molecular graphs\n",
    "3. Calculating molecular descriptors\n",
    "4. Generating molecular fingerprints"
   ]
  },
  {
   "cell_type": "code",
   "execution_count": 7,
   "metadata": {
    "id": "ipZFczq6yzMz"
   },
   "outputs": [
    {
     "name": "stdout",
     "output_type": "stream",
     "text": [
      "Requirement already satisfied: rdkit in /Users/timothysereda/miniforge3/lib/python3.10/site-packages (2024.3.1)\n"
     ]
    }
   ],
   "source": [
    "!pip install rdkit"
   ]
  },
  {
   "cell_type": "code",
   "execution_count": 8,
   "metadata": {
    "id": "9WYQ3rQUyzM0",
    "outputId": "cf11d6aa-4638-427e-a9a5-e87a70b3d50a"
   },
   "outputs": [],
   "source": [
    "from rdkit import Chem\n",
    "from rdkit.Chem import AllChem, Draw, Descriptors, MACCSkeys"
   ]
  },
  {
   "cell_type": "markdown",
   "metadata": {
    "id": "oFjHL3EjyzM0"
   },
   "source": [
    "## Converting Molecules between SMILES and InChI"
   ]
  },
  {
   "cell_type": "code",
   "execution_count": 9,
   "metadata": {
    "id": "8yEUn2eXyzM1",
    "outputId": "c02da934-108f-4cf9-bee5-dcaed88636f3"
   },
   "outputs": [
    {
     "name": "stdout",
     "output_type": "stream",
     "text": [
      "Aspirin SMILES: CC(=O)Oc1ccccc1C(=O)O\n",
      "Aspirin InChI: InChI=1S/C9H8O4/c1-6(10)13-8-5-3-2-4-7(8)9(11)12/h2-5H,1H3,(H,11,12)\n",
      "Caffeine InChI: InChI=1S/C8H10N4O2/c1-10-4-9-6-5(10)7(13)12(3)8(14)11(6)2/h4H,1-3H3\n",
      "Caffeine SMILES: Cn1c(=O)c2c(ncn2C)n(C)c1=O\n"
     ]
    }
   ],
   "source": [
    "# Explanation:\n",
    "# - SMILES and InChI are two common text-based representations of molecules.\n",
    "# - SMILES (Simplified Molecular Input Line Entry System) is a concise and human-readable format.\n",
    "#   It represents the molecular structure using ASCII characters.\n",
    "# - InChI (International Chemical Identifier) is a standardized and unique identifier for chemical substances.\n",
    "#   It provides a more detailed and machine-readable representation of molecules.\n",
    "# - RDKit provides functions to convert between SMILES and InChI representations.\n",
    "# - Converting between these representations allows for compatibility with different tools and databases.\n",
    "\n",
    "# SMILES to InChI conversion\n",
    "aspirin_smiles = \"CC(=O)Oc1ccccc1C(=O)O\"\n",
    "aspirin_mol = Chem.MolFromSmiles(aspirin_smiles)\n",
    "aspirin_inchi = Chem.MolToInchi(aspirin_mol)\n",
    "\n",
    "print(\"Aspirin SMILES:\", aspirin_smiles)\n",
    "print(\"Aspirin InChI:\", aspirin_inchi)\n",
    "\n",
    "# InChI to SMILES conversion \n",
    "caffeine_inchi = \"InChI=1S/C8H10N4O2/c1-10-4-9-6-5(10)7(13)12(3)8(14)11(6)2/h4H,1-3H3\"\n",
    "caffeine_mol = Chem.MolFromInchi(caffeine_inchi)\n",
    "caffeine_smiles = Chem.MolToSmiles(caffeine_mol)\n",
    "\n",
    "print(\"Caffeine InChI:\", caffeine_inchi)\n",
    "print(\"Caffeine SMILES:\", caffeine_smiles)"
   ]
  },
  {
   "cell_type": "markdown",
   "metadata": {
    "id": "FJ2LJAoRyzM1"
   },
   "source": [
    "## Generating Molecular Graphs"
   ]
  },
  {
   "cell_type": "code",
   "execution_count": 10,
   "metadata": {
    "id": "IXSqqZI8yzM2",
    "outputId": "3579e25f-cf0c-46ba-dbc9-ab0bd217155b"
   },
   "outputs": [
    {
     "data": {
      "image/jpeg": "[encoded data removed]",
      "image/png": "[encoded data removed]",
      "text/plain": [
       "<PIL.PngImagePlugin.PngImageFile image mode=RGB size=300x300>"
      ]
     },
     "execution_count": 10,
     "metadata": {},
     "output_type": "execute_result"
    }
   ],
   "source": [
    "# Explanation:\n",
    "# - Molecular graphs are a way to represent the connectivity and structure of molecules.\n",
    "# - In a molecular graph, atoms are represented as nodes, and bonds are represented as edges.\n",
    "# - RDKit provides functions to generate molecular graphs from molecule objects.\n",
    "# - The generated graphs can be visualized using the `Draw` module in RDKit.\n",
    "# - Molecular graphs are useful for various tasks, such as structure visualization, substructure searching, and similarity calculations.\n",
    "\n",
    "# Generate molecular graphs\n",
    "aspirin_graph = Draw.MolToImage(aspirin_mol)\n",
    "caffeine_graph = Draw.MolToImage(caffeine_mol)\n",
    "\n",
    "aspirin_graph \n",
    "caffeine_graph"
   ]
  },
  {
   "cell_type": "markdown",
   "metadata": {
    "id": "PljA70nOyzM3"
   },
   "source": [
    "## Calculating Molecular Descriptors"
   ]
  },
  {
   "cell_type": "code",
   "execution_count": 11,
   "metadata": {
    "id": "yBUUMuX4yzM3",
    "outputId": "f6723eb7-13cc-491b-f003-8d68afb62e5c"
   },
   "outputs": [
    {
     "name": "stdout",
     "output_type": "stream",
     "text": [
      "Aspirin Molecular Weight: 180.042258736\n",
      "Aspirin TPSA: 63.60000000000001\n",
      "Aspirin H-Bond Donors: 1\n",
      "Aspirin H-Bond Acceptors: 3\n",
      "Caffeine Molecular Weight: 194.08037556\n",
      "Caffeine TPSA: 61.82\n",
      "Caffeine H-Bond Donors: 0\n",
      "Caffeine H-Bond Acceptors: 6\n"
     ]
    }
   ],
   "source": [
    "# Explanation:\n",
    "# - Molecular descriptors are numerical values that describe various properties of molecules.\n",
    "# - They capture information about the molecular structure, topology, physicochemical properties, and more.\n",
    "# - RDKit provides a wide range of molecular descriptors that can be calculated for a given molecule.\n",
    "# - Some common descriptors include molecular weight, topological polar surface area (TPSA), number of hydrogen bond donors and acceptors, and more.\n",
    "# - Molecular descriptors are used as features in machine learning models for property prediction and virtual screening.\n",
    "# - They help in understanding the relationship between molecular structure and biological activity or other properties of interest.\n",
    "\n",
    "# Calculate molecular descriptors for aspirin\n",
    "aspirin_mw = Descriptors.ExactMolWt(aspirin_mol)\n",
    "aspirin_tpsa = Descriptors.TPSA(aspirin_mol)\n",
    "aspirin_hbd = Descriptors.NumHDonors(aspirin_mol)\n",
    "aspirin_hba = Descriptors.NumHAcceptors(aspirin_mol)\n",
    "\n",
    "print(\"Aspirin Molecular Weight:\", aspirin_mw)\n",
    "print(\"Aspirin TPSA:\", aspirin_tpsa)\n",
    "print(\"Aspirin H-Bond Donors:\", aspirin_hbd)\n",
    "print(\"Aspirin H-Bond Acceptors:\", aspirin_hba)\n",
    "\n",
    "# Calculate molecular descriptors for caffeine\n",
    "caffeine_mw = Descriptors.ExactMolWt(caffeine_mol)\n",
    "caffeine_tpsa = Descriptors.TPSA(caffeine_mol)\n",
    "caffeine_hbd = Descriptors.NumHDonors(caffeine_mol)\n",
    "caffeine_hba = Descriptors.NumHAcceptors(caffeine_mol)\n",
    "\n",
    "print(\"Caffeine Molecular Weight:\", caffeine_mw)\n",
    "print(\"Caffeine TPSA:\", caffeine_tpsa)\n",
    "print(\"Caffeine H-Bond Donors:\", caffeine_hbd)\n",
    "print(\"Caffeine H-Bond Acceptors:\", caffeine_hba)"
   ]
  },
  {
   "cell_type": "markdown",
   "metadata": {},
   "source": [
    "## Generating Molecular Fingerprints"
   ]
  },
  {
   "cell_type": "code",
   "execution_count": 12,
   "metadata": {
    "id": "SLlezYVFyzM4",
    "outputId": "44ea0a65-7950-41f2-f705-bcba8c27409b"
   },
   "outputs": [
    {
     "name": "stdout",
     "output_type": "stream",
     "text": [
      "ECFP4 Fingerprint: 0000000000010000000000010000000001000000000000000000000000000000100000000000000000000000000000000000000000000000000000000000000000000000000000000000000000000000000000000000000100000000000000000000000000000000000000000000000000000000000000000000000000000000000000000000000000000000000000000000000000000000000000000000000000000000000000000000000000000000000010000000000000000000000000000010010000000000000000000000000000000001000000000000000000001000000000001000000000000000000000000000000000000000000000000000000000000000000000000000000000000000000000000000000000000000000000000000000000000000100000000000000000000000000000000000000000000000000000000010000000000000000000000000000000000000000000010000000001000000000000000000001000000000000000000000000100000000000000000000000000000000000000000000000000000001000000000000000000000000000000000000000001000000000000000000000000000000000000000000010000000000000001000000000000000000000000000000000000100000000000000000000100000000000000000000000000000000000000000000000001000000\n",
      "MACCS Keys: 00000000000000000000000000000000000000000000000000000000000000000000000000000000000000000100000000000000000000000100000000010011000000001001100110100010101001011011110\n",
      "Number of common bits: 0\n"
     ]
    },
    {
     "name": "stderr",
     "output_type": "stream",
     "text": [
      "[22:42:37] DEPRECATION WARNING: please use MorganGenerator\n"
     ]
    }
   ],
   "source": [
    "# Explanation:\n",
    "# - Molecular fingerprints are binary vectors that encode the presence or absence of certain structural features in a molecule.\n",
    "# - They provide a compact representation of the molecular structure and are widely used for similarity calculations and screening.\n",
    "# - RDKit supports various types of fingerprints, such as Morgan fingerprints (circular fingerprints) and MACCS keys.\n",
    "# - Fingerprints allow for fast comparison of molecules and can be used to identify similar compounds or assess structural diversity.\n",
    "# - The `GetMorganFingerprintAsBitVect` function generates a Morgan fingerprint as a bit vector, while `GetOnBits` returns the indices of the set bits in the fingerprint.\n",
    "# - Comparing fingerprints using similarity measures like Tanimoto or Dice similarity helps in identifying structurally similar molecules.\n",
    "\n",
    "# Generate ECFP4 fingerprint\n",
    "ecfp4_fp = AllChem.GetMorganFingerprintAsBitVect(aspirin_mol, radius=2, nBits=1024)\n",
    "\n",
    "# Generate MACCS keys\n",
    "maccs_keys = MACCSkeys.GenMACCSKeys(aspirin_mol)\n",
    "\n",
    "# Print the fingerprints\n",
    "print(f\"ECFP4 Fingerprint: {ecfp4_fp.ToBitString()}\")\n",
    "print(f\"MACCS Keys: {maccs_keys.ToBitString()}\")\n",
    "\n",
    "# Compare the fingerprints\n",
    "ecfp4_bits = set(ecfp4_fp.GetOnBits())\n",
    "maccs_bits = set(maccs_keys.GetOnBits())\n",
    "common_bits = ecfp4_bits.intersection(maccs_bits)\n",
    "print(f\"Number of common bits: {len(common_bits)}\")"
   ]
  },
  {
   "cell_type": "markdown",
   "metadata": {},
   "source": [
    "## Computing Similarity Measures"
   ]
  },
  {
   "cell_type": "code",
   "execution_count": 13,
   "metadata": {},
   "outputs": [
    {
     "ename": "AttributeError",
     "evalue": "module 'rdkit.Chem.AllChem' has no attribute 'GetBitSimilarity'",
     "output_type": "error",
     "traceback": [
      "\u001b[0;31m---------------------------------------------------------------------------\u001b[0m",
      "\u001b[0;31mAttributeError\u001b[0m                            Traceback (most recent call last)",
      "Cell \u001b[0;32mIn[13], line 2\u001b[0m\n\u001b[1;32m      1\u001b[0m \u001b[38;5;66;03m# Compute Tanimoto similarity\u001b[39;00m\n\u001b[0;32m----> 2\u001b[0m tanimoto_sim \u001b[38;5;241m=\u001b[39m \u001b[43mAllChem\u001b[49m\u001b[38;5;241;43m.\u001b[39;49m\u001b[43mGetBitSimilarity\u001b[49m(aspirin_fp, caffeine_fp)\n\u001b[1;32m      4\u001b[0m \u001b[38;5;28mprint\u001b[39m(\u001b[38;5;124m\"\u001b[39m\u001b[38;5;124mTanimoto Similarity (Aspirin vs Caffeine):\u001b[39m\u001b[38;5;124m\"\u001b[39m, tanimoto_sim)\n",
      "\u001b[0;31mAttributeError\u001b[0m: module 'rdkit.Chem.AllChem' has no attribute 'GetBitSimilarity'"
     ]
    }
   ],
   "source": [
    "# Compute Tanimoto similarity\n",
    "tanimoto_sim = AllChem.GetBitSimilarity(aspirin_fp, caffeine_fp)\n",
    "\n",
    "print(\"Tanimoto Similarity (Aspirin vs Caffeine):\", tanimoto_sim)\n",
    "\n",
    "# Compute Dice similarity\n",
    "dice_sim = AllChem.GetBitDiceSimilarity(aspirin_maccs, caffeine_maccs)\n",
    "\n",
    "print(\"Dice Similarity (Aspirin vs Caffeine):\", dice_sim)"
   ]
  },
  {
   "cell_type": "code",
   "execution_count": 12,
   "metadata": {},
   "outputs": [
    {
     "ename": "NameError",
     "evalue": "name 'tanimoto_sim' is not defined",
     "output_type": "error",
     "traceback": [
      "\u001b[0;31m---------------------------------------------------------------------------\u001b[0m",
      "\u001b[0;31mNameError\u001b[0m                                 Traceback (most recent call last)",
      "Cell \u001b[0;32mIn[12], line 15\u001b[0m\n\u001b[1;32m      1\u001b[0m \u001b[38;5;66;03m# Explanation:\u001b[39;00m\n\u001b[1;32m      2\u001b[0m \u001b[38;5;66;03m# - Similarity measures quantify the resemblance between two molecules based on their structural or chemical properties.\u001b[39;00m\n\u001b[1;32m      3\u001b[0m \u001b[38;5;66;03m# - The Tanimoto coefficient, also known as the Jaccard index, is a commonly used similarity measure.\u001b[39;00m\n\u001b[0;32m   (...)\u001b[0m\n\u001b[1;32m     13\u001b[0m \n\u001b[1;32m     14\u001b[0m \u001b[38;5;66;03m# Example interpretation:\u001b[39;00m\n\u001b[0;32m---> 15\u001b[0m \u001b[38;5;28mprint\u001b[39m(\u001b[38;5;124mf\u001b[39m\u001b[38;5;124m\"\u001b[39m\u001b[38;5;124mTanimoto Similarity (Aspirin vs Caffeine): \u001b[39m\u001b[38;5;132;01m{\u001b[39;00m\u001b[43mtanimoto_sim\u001b[49m\u001b[38;5;132;01m:\u001b[39;00m\u001b[38;5;124m.3f\u001b[39m\u001b[38;5;132;01m}\u001b[39;00m\u001b[38;5;124m\"\u001b[39m)\n\u001b[1;32m     16\u001b[0m \u001b[38;5;28mprint\u001b[39m(\u001b[38;5;124mf\u001b[39m\u001b[38;5;124m\"\u001b[39m\u001b[38;5;124mDice Similarity (Aspirin vs Caffeine): \u001b[39m\u001b[38;5;132;01m{\u001b[39;00mdice_sim\u001b[38;5;132;01m:\u001b[39;00m\u001b[38;5;124m.3f\u001b[39m\u001b[38;5;132;01m}\u001b[39;00m\u001b[38;5;124m\"\u001b[39m)\n\u001b[1;32m     18\u001b[0m \u001b[38;5;28;01mif\u001b[39;00m tanimoto_sim \u001b[38;5;241m>\u001b[39m \u001b[38;5;241m0.7\u001b[39m:\n",
      "\u001b[0;31mNameError\u001b[0m: name 'tanimoto_sim' is not defined"
     ]
    }
   ],
   "source": [
    "\n",
    "\n",
    "# Explanation:\n",
    "# - Similarity measures quantify the resemblance between two molecules based on their structural or chemical properties.\n",
    "# - The Tanimoto coefficient, also known as the Jaccard index, is a commonly used similarity measure.\n",
    "# - It ranges from 0 to 1, where 0 indicates no similarity and 1 indicates perfect similarity.\n",
    "# - The Tanimoto coefficient is calculated as the ratio of the number of common features (bits) between two fingerprints\n",
    "#   to the total number of unique features in both fingerprints.\n",
    "# - A higher Tanimoto coefficient suggests a higher degree of similarity between the molecules.\n",
    "# - The Dice coefficient is another similarity measure that gives more weight to the common features between the molecules.\n",
    "# - Interpreting similarity scores helps in identifying molecules with similar structural or chemical properties.\n",
    "# - Similarity measures are used in various tasks, such as virtual screening, lead optimization, and compound clustering.\n",
    "# - By comparing the similarity scores of a query molecule against a database of molecules, we can identify potential candidates\n",
    "#   for further investigation or optimization.\n",
    "\n",
    "# Example interpretation:\n",
    "print(f\"Tanimoto Similarity (Aspirin vs Caffeine): {tanimoto_sim:.3f}\")\n",
    "print(f\"Dice Similarity (Aspirin vs Caffeine): {dice_sim:.3f}\")\n",
    "\n",
    "if tanimoto_sim > 0.7:\n",
    "    print(\"Aspirin and Caffeine are highly similar.\")\n",
    "elif tanimoto_sim > 0.5:\n",
    "    print(\"Aspirin and Caffeine have moderate similarity.\")\n",
    "else:\n",
    "    print(\"Aspirin and Caffeine have low similarity.\")"
   ]
  },
  {
   "cell_type": "markdown",
   "metadata": {},
   "source": [
    "## Applying Molecular Similarity for Scaffold Hopping"
   ]
  },
  {
   "cell_type": "code",
   "execution_count": 13,
   "metadata": {},
   "outputs": [
    {
     "ename": "NameError",
     "evalue": "name 'GeneratePharmacophoreFingerprint' is not defined",
     "output_type": "error",
     "traceback": [
      "\u001b[0;31m---------------------------------------------------------------------------\u001b[0m",
      "\u001b[0;31mNameError\u001b[0m                                 Traceback (most recent call last)",
      "Cell \u001b[0;32mIn[13], line 15\u001b[0m\n\u001b[1;32m      1\u001b[0m \u001b[38;5;66;03m# Explanation:\u001b[39;00m\n\u001b[1;32m      2\u001b[0m \u001b[38;5;66;03m# - Scaffold hopping is a technique used in drug discovery to identify novel chemical scaffolds that have similar biological activity\u001b[39;00m\n\u001b[1;32m      3\u001b[0m \u001b[38;5;66;03m#   to a known active compound but with different structural features.\u001b[39;00m\n\u001b[0;32m   (...)\u001b[0m\n\u001b[1;32m     13\u001b[0m \u001b[38;5;66;03m# Example code snippet:\u001b[39;00m\n\u001b[1;32m     14\u001b[0m \u001b[38;5;66;03m# Calculate pharmacophoric similarity using 3D pharmacophore fingerprints\u001b[39;00m\n\u001b[0;32m---> 15\u001b[0m active_pharm_fp \u001b[38;5;241m=\u001b[39m \u001b[43mGeneratePharmacophoreFingerprint\u001b[49m(active_mol)\n\u001b[1;32m     16\u001b[0m similarity_scores_pharm \u001b[38;5;241m=\u001b[39m []\n\u001b[1;32m     17\u001b[0m \u001b[38;5;28;01mfor\u001b[39;00m mol \u001b[38;5;129;01min\u001b[39;00m suppl:\n",
      "\u001b[0;31mNameError\u001b[0m: name 'GeneratePharmacophoreFingerprint' is not defined"
     ]
    }
   ],
   "source": [
    "# Explanation:\n",
    "# - Scaffold hopping is a technique used in drug discovery to identify novel chemical scaffolds that have similar biological activity\n",
    "#   to a known active compound but with different structural features.\n",
    "# - It involves searching for compounds with similar pharmacophoric or structural features while allowing for variations in the core scaffold.\n",
    "# - Molecular similarity measures can be used to identify compounds with similar properties but different scaffolds.\n",
    "# - By calculating the similarity scores between a known active molecule and a database of compounds, we can identify potential candidates\n",
    "#   for scaffold hopping.\n",
    "# - The top similar molecules retrieved based on the similarity scores can be further analyzed for their structural diversity and potential\n",
    "#   as novel scaffolds.\n",
    "# - Scaffold hopping helps in exploring new chemical space and identifying compounds with improved properties, such as better potency,\n",
    "#   selectivity, or physicochemical properties.\n",
    "\n",
    "# Example code snippet:\n",
    "# Calculate pharmacophoric similarity using 3D pharmacophore fingerprints\n",
    "active_pharm_fp = GeneratePharmacophoreFingerprint(active_mol)\n",
    "similarity_scores_pharm = []\n",
    "for mol in suppl:\n",
    "    if mol is not None:\n",
    "        pharm_fp = GeneratePharmacophoreFingerprint(mol)\n",
    "        similarity = TanimotoSimilarity(active_pharm_fp, pharm_fp)\n",
    "        similarity_scores_pharm.append((mol, similarity))\n",
    "\n",
    "# Sort molecules by pharmacophoric similarity score\n",
    "similarity_scores_pharm.sort(key=lambda x: x[1], reverse=True)\n",
    "\n",
    "# Print top similar molecules based on pharmacophoric similarity\n",
    "print(\"Top Similar Molecules (Pharmacophoric Similarity):\")\n",
    "for mol, score in similarity_scores_pharm[:5]:\n",
    "    print(Chem.MolToSmiles(mol), score)"
   ]
  },
  {
   "cell_type": "code",
   "execution_count": 14,
   "metadata": {},
   "outputs": [
    {
     "ename": "ModuleNotFoundError",
     "evalue": "No module named 'seaborn'",
     "output_type": "error",
     "traceback": [
      "\u001b[0;31m---------------------------------------------------------------------------\u001b[0m",
      "\u001b[0;31mModuleNotFoundError\u001b[0m                       Traceback (most recent call last)",
      "Cell \u001b[0;32mIn[14], line 13\u001b[0m\n\u001b[1;32m     11\u001b[0m \u001b[38;5;28;01mfrom\u001b[39;00m \u001b[38;5;21;01mrdkit\u001b[39;00m\u001b[38;5;21;01m.\u001b[39;00m\u001b[38;5;21;01mChem\u001b[39;00m\u001b[38;5;21;01m.\u001b[39;00m\u001b[38;5;21;01mDraw\u001b[39;00m \u001b[38;5;28;01mimport\u001b[39;00m SimilarityMaps\n\u001b[1;32m     12\u001b[0m \u001b[38;5;28;01mimport\u001b[39;00m \u001b[38;5;21;01mmatplotlib\u001b[39;00m\u001b[38;5;21;01m.\u001b[39;00m\u001b[38;5;21;01mpyplot\u001b[39;00m \u001b[38;5;28;01mas\u001b[39;00m \u001b[38;5;21;01mplt\u001b[39;00m\n\u001b[0;32m---> 13\u001b[0m \u001b[38;5;28;01mimport\u001b[39;00m \u001b[38;5;21;01mseaborn\u001b[39;00m \u001b[38;5;28;01mas\u001b[39;00m \u001b[38;5;21;01msns\u001b[39;00m\n\u001b[1;32m     15\u001b[0m \u001b[38;5;66;03m# Visualize molecular graphs\u001b[39;00m\n\u001b[1;32m     16\u001b[0m mol_images \u001b[38;5;241m=\u001b[39m [Draw\u001b[38;5;241m.\u001b[39mMolToImage(mol) \u001b[38;5;28;01mfor\u001b[39;00m mol \u001b[38;5;129;01min\u001b[39;00m [aspirin_mol, caffeine_mol]]\n",
      "\u001b[0;31mModuleNotFoundError\u001b[0m: No module named 'seaborn'"
     ]
    }
   ],
   "source": [
    "# Explanation:\n",
    "# - Visualizing molecular graphs, fingerprints, and similarity matrices can help in understanding the structural relationships between molecules.\n",
    "# - RDKit provides functions to generate visual representations of molecules and their properties.\n",
    "# - Molecular graphs can be visualized using the `Draw` module in RDKit, which renders the 2D structure of the molecule.\n",
    "# - Fingerprints can be visualized as bit vectors or heatmaps, providing insights into the presence or absence of specific structural features.\n",
    "# - Similarity matrices can be visualized as heatmaps, where each cell represents the similarity score between two molecules.\n",
    "# - Visualization techniques aid in interpreting the results and identifying patterns or clusters of similar molecules.\n",
    "\n",
    "# Example code snippet:\n",
    "from rdkit.Chem import Draw\n",
    "from rdkit.Chem.Draw import SimilarityMaps\n",
    "import matplotlib.pyplot as plt\n",
    "import seaborn as sns\n",
    "\n",
    "# Visualize molecular graphs\n",
    "mol_images = [Draw.MolToImage(mol) for mol in [aspirin_mol, caffeine_mol]]\n",
    "img = Draw.MolsToGridImage(mol_images, molsPerRow=2, subImgSize=(300, 300), legends=[\"Aspirin\", \"Caffeine\"])\n",
    "img.save(\"molecular_graphs.png\")\n",
    "\n",
    "# Visualize fingerprints\n",
    "fig, ax = plt.subplots(figsize=(10, 4))\n",
    "ax.imshow([aspirin_fp, caffeine_fp], aspect=\"auto\", cmap=\"binary\")\n",
    "ax.set_yticks([0, 1])\n",
    "ax.set_yticklabels([\"Aspirin\", \"Caffeine\"])\n",
    "ax.set_xlabel(\"Bit Position\")\n",
    "ax.set_title(\"Fingerprint Visualization\")\n",
    "plt.tight_layout()\n",
    "plt.savefig(\"fingerprints.png\")\n",
    "\n",
    "# Visualize similarity matrix\n",
    "similarity_matrix = [\n",
    "    [1.0, tanimoto_sim],\n",
    "    [tanimoto_sim, 1.0]\n",
    "]\n",
    "\n",
    "fig, ax = plt.subplots(figsize=(6, 5))\n",
    "sns.heatmap(similarity_matrix, annot=True, cmap=\"coolwarm\", vmin=0, vmax=1, xticklabels=[\"Aspirin\", \"Caffeine\"], yticklabels=[\"Aspirin\", \"Caffeine\"])\n",
    "ax.set_title(\"Similarity Matrix\")\n",
    "plt.tight_layout()\n",
    "plt.savefig(\"similarity_matrix.png\")"
   ]
  },
  {
   "cell_type": "code",
   "execution_count": 15,
   "metadata": {},
   "outputs": [
    {
     "ename": "OSError",
     "evalue": "File error: Bad input file dataset.sdf",
     "output_type": "error",
     "traceback": [
      "\u001b[0;31m---------------------------------------------------------------------------\u001b[0m",
      "\u001b[0;31mOSError\u001b[0m                                   Traceback (most recent call last)",
      "Cell \u001b[0;32mIn[15], line 2\u001b[0m\n\u001b[1;32m      1\u001b[0m \u001b[38;5;66;03m# Load a small molecule dataset\u001b[39;00m\n\u001b[0;32m----> 2\u001b[0m suppl \u001b[38;5;241m=\u001b[39m \u001b[43mChem\u001b[49m\u001b[38;5;241;43m.\u001b[39;49m\u001b[43mSDMolSupplier\u001b[49m\u001b[43m(\u001b[49m\u001b[38;5;124;43m'\u001b[39;49m\u001b[38;5;124;43mdataset.sdf\u001b[39;49m\u001b[38;5;124;43m'\u001b[39;49m\u001b[43m)\u001b[49m  \u001b[38;5;66;03m# Replace 'dataset.sdf' with your dataset file\u001b[39;00m\n\u001b[1;32m      4\u001b[0m \u001b[38;5;66;03m# Define a known active molecule\u001b[39;00m\n\u001b[1;32m      5\u001b[0m active_mol \u001b[38;5;241m=\u001b[39m Chem\u001b[38;5;241m.\u001b[39mMolFromSmiles(\u001b[38;5;124m'\u001b[39m\u001b[38;5;124mCC(=O)Oc1ccccc1C(=O)O\u001b[39m\u001b[38;5;124m'\u001b[39m)  \u001b[38;5;66;03m# Aspirin\u001b[39;00m\n",
      "\u001b[0;31mOSError\u001b[0m: File error: Bad input file dataset.sdf"
     ]
    }
   ],
   "source": [
    "# Load a small molecule dataset\n",
    "suppl = Chem.SDMolSupplier('dataset.sdf')  # Replace 'dataset.sdf' with your dataset file\n",
    "\n",
    "# Define a known active molecule\n",
    "active_mol = Chem.MolFromSmiles('CC(=O)Oc1ccccc1C(=O)O')  # Aspirin\n",
    "\n",
    "# Calculate similarity scores for each molecule in the dataset\n",
    "similarity_scores = []\n",
    "for mol in suppl:\n",
    "    if mol is not None:\n",
    "        fp = AllChem.GetMorganFingerprintAsBitVect(mol, 2)\n",
    "        similarity = AllChem.GetBitSimilarity(fp, aspirin_fp)\n",
    "        similarity_scores.append((mol, similarity))\n",
    "\n",
    "# Sort molecules by similarity score\n",
    "similarity_scores.sort(key=lambda x: x[1], reverse=True)\n",
    "\n",
    "# Print top similar molecules\n",
    "print(\"Top Similar Molecules:\")\n",
    "for mol, score in similarity_scores[:5]:\n",
    "    print(Chem.MolToSmiles(mol), score)"
   ]
  },
  {
   "cell_type": "markdown",
   "metadata": {
    "id": "eOGiXODuyzM4"
   },
   "source": [
    "## Conclusion\n",
    "\n",
    "In this notebook, we explored practical examples of molecular representation and descriptor calculation using the RDKit library. We learned how to convert molecules between SMILES and InChI representations, generate molecular graphs, calculate various molecular descriptors, and generate molecular fingerprints.\n",
    "\n",
    "These concepts form the foundation for more advanced topics in computational drug discovery, such as machine learning-based property prediction and virtual screening.\n",
    "\n",
    "Feel free to experiment with different molecules and explore additional descriptors available in RDKit!"
   ]
  }
 ],
 "metadata": {
  "kernelspec": {
   "display_name": "Python 3",
   "language": "python",
   "name": "python3"
  },
  "language_info": {
   "codemirror_mode": {
    "name": "ipython",
    "version": 3
   },
   "file_extension": ".py",
   "mimetype": "text/x-python",
   "name": "python",
   "nbconvert_exporter": "python",
   "pygments_lexer": "ipython3",
   "version": "3.10.14"
  }
 },
 "nbformat": 4,
 "nbformat_minor": 0
}
