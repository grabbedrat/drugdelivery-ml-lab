# Module 3: Molecular Representation and Featurization

## Introduction
# In this module, we will explore various techniques for representing and featurizing molecules for machine learning applications in drug discovery and computational chemistry. We will cover the following topics:
#
# 1. SMILES Strings and RDKit
# 2. Extended-Connectivity Fingerprints (ECFPs)
# 3. Molecular Descriptors
# 4. Graph-Based Representations
# 5. Molecular Embeddings (Mol2vec)
#
# Let's get started!

## SMILES Strings and RDKit
# SMILES (Simplified Molecular Input Line Entry System) is a widely used notation for representing molecules as strings. It provides a compact and human-readable way to encode molecular structures.
#
# RDKit is a powerful open-source cheminformatics library that allows us to manipulate and process molecules using SMILES strings and other formats.

# Install RDKit if not already installed
!pip install rdkit

# Import necessary libraries
from rdkit import Chem
from rdkit.Chem import Draw

# Example SMILES string for aspirin
aspirin_smiles = 'O=C(C)Oc1ccccc1C(=O)O'

# Convert SMILES to RDKit molecule object
mol = Chem.MolFromSmiles(aspirin_smiles)

# Visualize the molecule
Draw.MolToImage(mol)

## Extended-Connectivity Fingerprints (ECFPs)
# ECFPs are a class of molecular fingerprints that capture the local environment around each atom in a molecule. They are widely used for similarity searching, clustering, and machine learning tasks.

from rdkit.Chem import AllChem

# Generate ECFP4 fingerprint for the molecule
ecfp4 = AllChem.GetMorganFingerprintAsBitVect(mol, 2)

# Print the fingerprint
print(ecfp4)

## Molecular Descriptors
# Molecular descriptors are numerical values that capture various physicochemical properties of molecules. They can be used as features for machine learning models.

from rdkit.Chem import Descriptors

# Calculate molecular weight
mol_weight = Descriptors.ExactMolWt(mol)
print(f"Molecular Weight: {mol_weight}")

# Calculate LogP (octanol-water partition coefficient)
log_p = Descriptors.MolLogP(mol)
print(f"LogP: {log_p}")

## Graph-Based Representations
# Molecules can be represented as graphs, where atoms are nodes and bonds are edges. Graph-based representations allow us to capture the connectivity and structural information of molecules.

from rdkit.Chem import rdmolops

# Get the adjacency matrix of the molecule
adj_matrix = rdmolops.GetAdjacencyMatrix(mol)

# Print the adjacency matrix
print(adj_matrix)

## Molecular Embeddings (Mol2vec)
# Mol2vec is a technique for learning continuous vector representations of molecules. It is based on the Word2vec algorithm and learns embeddings by considering the co-occurrence of molecular substructures.

# Install mol2vec if not already installed
!pip install mol2vec

from mol2vec import features

# Generate mol2vec features for the molecule
mol2vec_features = features.mol2alt_sentence(mol, 1)

# Print the mol2vec features
print(mol2vec_features)

## Hands-on Exercise
# Task: Calculate the Tanimoto similarity between two molecules using their ECFP4 fingerprints.

# Molecule 1: Aspirin
aspirin_smiles = 'O=C(C)Oc1ccccc1C(=O)O'

# Molecule 2: Caffeine
caffeine_smiles = 'CN1C=NC2=C1C(=O)N(C(=O)N2C)C'

# Convert SMILES to RDKit molecule objects
mol1 = Chem.MolFromSmiles(aspirin_smiles)
mol2 = Chem.MolFromSmiles(caffeine_smiles)

# Generate ECFP4 fingerprints for both molecules
fp1 = AllChem.GetMorganFingerprintAsBitVect(mol1, 2)
fp2 = AllChem.GetMorganFingerprintAsBitVect(mol2, 2)

# Calculate Tanimoto similarity
tanimoto_sim = DataStructs.TanimotoSimilarity(fp1, fp2)

print(f"Tanimoto Similarity: {tanimoto_sim}")

## Quiz
# 1. What does the SMILES notation represent?
#    a) Molecular formula
#    b) Molecular structure
#    c) Molecular weight
#    d) Molecular charge
#
# 2. Which of the following is NOT a type of molecular descriptor?
#    a) LogP
#    b) Molecular weight
#    c) ECFP fingerprint
#    d) Adjacency matrix
#
# 3. What is the purpose of molecular embeddings like Mol2vec?
#    a) To calculate physicochemical properties
#    b) To generate human-readable representations
#    c) To learn continuous vector representations
#    d) To visualize molecular structures

## Answers
# 1. b) Molecular structure
# 2. d) Adjacency matrix
# 3. c) To learn continuous vector representations

## Conclusion
# In this module, we explored various techniques for representing and featurizing molecules, including SMILES strings, ECFPs, molecular descriptors, graph-based representations, and molecular embeddings like Mol2vec. These techniques form the foundation for applying machine learning algorithms to solve problems in drug discovery and computational chemistry.
#
# Remember to choose the appropriate representation and featurization method based on the specific task and dataset you are working with. Experimenting with different techniques and comparing their performance can help you identify the most suitable approach for your problem.
#
# Happy coding and exploring the fascinating world of molecular representations!
