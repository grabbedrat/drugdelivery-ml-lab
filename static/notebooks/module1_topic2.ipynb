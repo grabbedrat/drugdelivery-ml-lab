{
    "cells": [
     {
      "cell_type": "markdown",
      "metadata": {
       "id": "cmj1yVpfyzMw"
      },
      "source": [
       "# Module 1, Lesson 1: Molecular Representation and Descriptors"
      ]
     },
     {
      "cell_type": "markdown",
      "metadata": {
       "id": "UCKhIh-oyzMy"
      },
      "source": [
       "## Introduction\n",
       "\n",
       "In this notebook, we will explore practical examples of molecular representation and descriptor calculation using the RDKit library in Python. We will cover the following topics:\n",
       "\n",
       "1. Converting molecules between SMILES and InChI representations\n",
       "2. Generating molecular graphs\n",
       "3. Calculating molecular descriptors\n",
       "4. Generating molecular fingerprints\n",
       "5. Computing similarity measures\n",
       "6. Applying molecular similarity for scaffold hopping"
      ]
     },
     {
      "cell_type": "code",
      "execution_count": null,
      "metadata": {
       "id": "ipZFczq6yzMz"
      },
      "outputs": [],
      "source": [
       "!pip install rdkit"
      ]
     },
     {
      "cell_type": "code",
      "execution_count": null,
      "metadata": {
       "id": "9WYQ3rQUyzM0"
      },
      "outputs": [],
      "source": [
       "from rdkit import Chem\n",
       "from rdkit.Chem import AllChem, Draw, Descriptors, MACCSkeys\n",
       "from rdkit import DataStructs\n",
       "import matplotlib.pyplot as plt\n",
       "import seaborn as sns"
      ]
     },
     {
      "cell_type": "markdown",
      "metadata": {
       "id": "oFjHL3EjyzM0"
      },
      "source": [
       "## Converting Molecules between SMILES and InChI"
      ]
     },
     {
      "cell_type": "code",
      "execution_count": null,
      "metadata": {
       "id": "8yEUn2eXyzM1"
      },
      "outputs": [],
      "source": [
       "# Explanation:\n",
       "# - SMILES and InChI are two common text-based representations of molecules.\n",
       "# - SMILES (Simplified Molecular Input Line Entry System) is a concise and human-readable format.\n",
       "#   It represents the molecular structure using ASCII characters.\n",
       "# - InChI (International Chemical Identifier) is a standardized and unique identifier for chemical substances.\n",
       "#   It provides a more detailed and machine-readable representation of molecules.\n",
       "# - RDKit provides functions to convert between SMILES and InChI representations.\n",
       "# - Converting between these representations allows for compatibility with different tools and databases.\n",
       "\n",
       "# SMILES to InChI conversion\n",
       "aspirin_smiles = \"CC(=O)Oc1ccccc1C(=O)O\"\n",
       "aspirin_mol = Chem.MolFromSmiles(aspirin_smiles)\n",
       "aspirin_inchi = Chem.MolToInchi(aspirin_mol)\n",
       "\n",
       "print(\"Aspirin SMILES:\", aspirin_smiles)\n",
       "print(\"Aspirin InChI:\", aspirin_inchi)\n",
       "\n",
       "# InChI to SMILES conversion \n",
       "caffeine_inchi = \"InChI=1S/C8H10N4O2/c1-10-4-9-6-5(10)7(13)12(3)8(14)11(6)2/h4H,1-3H3\"\n",
       "caffeine_mol = Chem.MolFromInchi(caffeine_inchi)\n",
       "caffeine_smiles = Chem.MolToSmiles(caffeine_mol)\n",
       "\n",
       "print(\"Caffeine InChI:\", caffeine_inchi)\n",
       "print(\"Caffeine SMILES:\", caffeine_smiles)"
      ]
     },
     {
      "cell_type": "markdown",
      "metadata": {
       "id": "FJ2LJAoRyzM1"
      },
      "source": [
       "## Generating Molecular Graphs"
      ]
     },
     {
      "cell_type": "code",
      "execution_count": null,
      "metadata": {
       "id": "IXSqqZI8yzM2"
      },
      "outputs": [],
      "source": [
       "# Explanation:\n",
       "# - Molecular graphs are a way to represent the connectivity and structure of molecules.\n",
       "# - In a molecular graph, atoms are represented as nodes, and bonds are represented as edges.\n",
       "# - RDKit provides functions to generate molecular graphs from molecule objects.\n",
       "# - The generated graphs can be visualized using the `Draw` module in RDKit.\n",
       "# - Molecular graphs are useful for various tasks, such as structure visualization, substructure searching, and similarity calculations.\n",
       "\n",
       "# Generate molecular graphs\n",
       "aspirin_graph = Draw.MolToImage(aspirin_mol)\n",
       "caffeine_graph = Draw.MolToImage(caffeine_mol)\n",
       "\n",
       "# Visualize molecular graphs\n",
       "mol_images = [Draw.MolToImage(mol) for mol in [aspirin_mol, caffeine_mol]]\n",
       "img = Draw.MolsToGridImage(mol_images, molsPerRow=2, subImgSize=(300, 300), legends=[\"Aspirin\", \"Caffeine\"])\n",
       "img.save(\"molecular_graphs.png\")\n",
       "img"
      ]
     },
     {
      "cell_type": "markdown",
      "metadata": {
       "id": "PljA70nOyzM3"
      },
      "source": [
       "## Calculating Molecular Descriptors"
      ]
     },
     {
      "cell_type": "code",
      "execution_count": null,
      "metadata": {
       "id": "yBUUMuX4yzM3"
      },
      "outputs": [],
      "source": [
       "# Explanation:\n",
       "# - Molecular descriptors are numerical values that describe various properties of molecules.\n",
       "# - They capture information about the molecular structure, topology, physicochemical properties, and more.\n",
       "# - RDKit provides a wide range of molecular descriptors that can be calculated for a given molecule.\n",
       "# - Some common descriptors include molecular weight, topological polar surface area (TPSA), number of hydrogen bond donors and acceptors, and more.\n",
       "# - Molecular descriptors are used as features in machine learning models for property prediction and virtual screening.\n",
       "# - They help in understanding the relationship between molecular structure and biological activity or other properties of interest.\n",
       "\n",
       "# Calculate molecular descriptors for aspirin\n",
       "aspirin_mw = Descriptors.ExactMolWt(aspirin_mol)\n",
       "aspirin_tpsa = Descriptors.TPSA(aspirin_mol)\n",
       "aspirin_hbd = Descriptors.NumHDonors(aspirin_mol)\n",
       "aspirin_hba = Descriptors.NumHAcceptors(aspirin_mol)\n",
       "\n",
       "print(\"Aspirin Molecular Weight:\", aspirin_mw)\n",
       "print(\"Aspirin TPSA:\", aspirin_tpsa)\n",
       "print(\"Aspirin H-Bond Donors:\", aspirin_hbd)\n",
       "print(\"Aspirin H-Bond Acceptors:\", aspirin_hba)\n",
       "\n",
       "# Calculate molecular descriptors for caffeine\n",
       "caffeine_mw = Descriptors.ExactMolWt(caffeine_mol)\n",
       "caffeine_tpsa = Descriptors.TPSA(caffeine_mol)\n",
       "caffeine_hbd = Descriptors.NumHDonors(caffeine_mol)\n",
       "caffeine_hba = Descriptors.NumHAcceptors(caffeine_mol)\n",
       "\n",
       "print(\"Caffeine Molecular Weight:\", caffeine_mw)\n",
       "print(\"Caffeine TPSA:\", caffeine_tpsa)\n",
       "print(\"Caffeine H-Bond Donors:\", caffeine_hbd)\n",
       "print(\"Caffeine H-Bond Acceptors:\", caffeine_hba)"
      ]
     },
     {
      "cell_type": "markdown",
      "metadata": {},
      "source": [
       "## Generating Molecular Fingerprints"
      ]
     },
     {
      "cell_type": "code",
      "execution_count": null,
      "metadata": {
       "id": "SLlezYVFyzM4"
      },
      "outputs": [],
      "source": [
       "# Explanation:\n",
       "# - Molecular fingerprints are binary vectors that encode the presence or absence of certain structural features in a molecule.\n",
       "# - They provide a compact representation of the molecular structure and are widely used for similarity calculations and screening.\n",
       "# - RDKit supports various types of fingerprints, such as Morgan fingerprints (circular fingerprints) and MACCS keys.\n",
       "# - Fingerprints allow for fast comparison of molecules and can be used to identify similar compounds or assess structural diversity.\n",
       "# - The `GetMorganFingerprintAsBitVect` function generates a Morgan fingerprint as a bit vector, while `GetOnBits` returns the indices of the set bits in the fingerprint.\n",
       "# - Comparing fingerprints using similarity measures like Tanimoto or Dice similarity helps in identifying structurally similar molecules.\n",
       "\n",
       "# Generate ECFP4 fingerprint\n",
       "aspirin_ecfp4 = AllChem.GetMorganFingerprintAsBitVect(aspirin_mol, radius=2, nBits=1024)\n",
       "caffeine_ecfp4 = AllChem.GetMorganFingerprintAsBitVect(caffeine_mol, radius=2, nBits=1024)\n",
       "\n",
       "# Generate MACCS keys\n",
       "aspirin_maccs = MACCSkeys.GenMACCSKeys(aspirin_mol)\n",
       "caffeine_maccs = MACCSkeys.GenMACCSKeys(caffeine_mol)\n",
       "\n",
       "# Print the fingerprints\n",
       "print(\"Aspirin ECFP4 Fingerprint:\")\n",
       "print(aspirin_ecfp4.ToBitString())\n",
       "print(\"Aspirin MACCS Keys:\")\n",
       "print(aspirin_maccs.ToBitString())\n",
       "\n",
       "print(\"Caffeine ECFP4 Fingerprint:\")\n",
       "print(caffeine_ecfp4.ToBitString())\n",
       "print(\"Caffeine MACCS Keys:\")\n",
       "print(caffeine_maccs.ToBitString())\n",
       "\n",
       "# Visualize fingerprints\n",
       "fig, ax = plt.subplots(figsize=(10, 4))\n",
       "ax.imshow([aspirin_ecfp4.ToBitString(), caffeine_ecfp4.ToBitString()], aspect=\"auto\", cmap=\"binary\")\n",
       "ax.set_yticks([0, 1])\n",
       "ax.set_yticklabels([\"Aspirin\", \"Caffeine\"])\n",
       "ax.set_xlabel(\"Bit Position\")\n",
       "ax.set_title(\"Fingerprint Visualization\")\n",
       "plt.tight_layout()\n",
       "plt.savefig(\"fingerprints.png\")"
      ]
     },
     {
      "cell_type": "markdown",
      "metadata": {},
      "source": [
       "## Computing Similarity Measures"
      ]
     },
     {
      "cell_type": "code",
      "execution_count": null,
      "metadata": {},
      "outputs": [],
      "source": [
       "# Explanation:\n",
       "# - Similarity measures quantify the resemblance between two molecules based on their structural or chemical properties.\n",
       "# - The Tanimoto coefficient, also known as the Jaccard index, is a commonly used similarity measure.\n",
       "# - It ranges from 0 to 1, where 0 indicates no similarity and 1 indicates perfect similarity.\n",
       "# - The Tanimoto coefficient is calculated as the ratio of the number of common features (bits) between two fingerprints\n",
       "#   to the total number of unique features in both fingerprints.\n",
       "# - A higher Tanimoto coefficient suggests a higher degree of similarity between the molecules.\n",
       "# - The Dice coefficient is another similarity measure that gives more weight to the common features between the molecules.\n",
       "# - Interpreting similarity scores helps in identifying molecules with similar structural or chemical properties.\n",
       "# - Similarity measures are used in various tasks, such as virtual screening, lead optimization, and compound clustering.\n",
       "# - By comparing the similarity scores of a query molecule against a database of molecules, we can identify potential candidates\n",
       "#   for further investigation or optimization.\n",
       "\n",
       "# Compute Tanimoto similarity\n",
       "tanimoto_sim = DataStructs.TanimotoSimilarity(aspirin_ecfp4, caffeine_ecfp4)\n",
       "\n",
       "# Compute Dice similarity\n",
       "dice_sim = DataStructs.DiceSimilarity(aspirin_ecfp4, caffeine_ecfp4)\n",
       "\n",
       "# Print similarity scores\n",
       "print(f\"Tanimoto Similarity (Aspirin vs Caffeine): {tanimoto_sim:.3f}\")\n",
       "print(f\"Dice Similarity (Aspirin vs Caffeine): {dice_sim:.3f}\")\n",
       "\n",
       "# Interpret similarity scores\n",
       "if tanimoto_sim > 0.7:\n",
       "    print(\"Aspirin and Caffeine are highly similar.\")\n",
       "elif tanimoto_sim > 0.5:\n",
       "    print(\"Aspirin and Caffeine have moderate similarity.\")\n",
       "else:\n",
       "    print(\"Aspirin and Caffeine have low similarity.\")\n",
       "\n",
       "# Visualize similarity matrix\n",
       "similarity_matrix = [\n",
       "    [1.0, tanimoto_sim],\n",
       "    [tanimoto_sim, 1.0]\n",
       "]\n",
       "\n",
       "fig, ax = plt.subplots(figsize=(6, 5))\n",
       "sns.heatmap(similarity_matrix, annot=True, cmap=\"coolwarm\", vmin=0, vmax=1, xticklabels=[\"Aspirin\", \"Caffeine\"], yticklabels=[\"Aspirin\", \"Caffeine\"])\n",
       "ax.set_title(\"Similarity Matrix\")\n",
       "plt.tight_layout()\n",
       "plt.savefig(\"similarity_matrix.png\")"
       ]
       },
       {
       "cell_type": "markdown",
       "metadata": {},
       "source": [
       "## Applying Molecular Similarity for Scaffold Hopping"
       ]
       },
       {
       "cell_type": "code",
       "execution_count": null,
       "metadata": {},
       "outputs": [],
       "source": [
       "# Explanation:\n",
       "# - Scaffold hopping is a technique used in drug discovery to identify novel chemical scaffolds that have similar biological activity\n",
       "#   to a known active compound but with different structural features.\n",
       "# - It involves searching for compounds with similar pharmacophoric or structural features while allowing for variations in the core scaffold.\n",
       "# - Molecular similarity measures can be used to identify compounds with similar properties but different scaffolds.\n",
       "# - By calculating the similarity scores between a known active molecule and a database of compounds, we can identify potential candidates\n",
       "#   for scaffold hopping.\n",
       "# - The top similar molecules retrieved based on the similarity scores can be further analyzed for their structural diversity and potential\n",
       "#   as novel scaffolds.\n",
       "# - Scaffold hopping helps in exploring new chemical space and identifying compounds with improved properties, such as better potency,\n",
       "#   selectivity, or physicochemical properties.\n",
       "\n",
       "# Load a small molecule dataset\n",
       "suppl = Chem.SDMolSupplier('dataset.sdf')  # Replace 'dataset.sdf' with your dataset file\n",
       "\n",
       "# Define a known active molecule\n",
       "active_mol = Chem.MolFromSmiles('CC(=O)Oc1ccccc1C(=O)O')  # Aspirin\n",
       "active_fp = AllChem.GetMorganFingerprintAsBitVect(active_mol, 2)\n",
       "\n",
       "# Calculate similarity scores for each molecule in the dataset\n",
       "similarity_scores = []\n",
       "for mol in suppl:\n",
       "    if mol is not None:\n",
       "        fp = AllChem.GetMorganFingerprintAsBitVect(mol, 2)\n",
       "        similarity = DataStructs.TanimotoSimilarity(fp, active_fp)\n",
       "        similarity_scores.append((mol, similarity))\n",
       "\n",
       "# Sort molecules by similarity score\n",
       "similarity_scores.sort(key=lambda x: x[1], reverse=True)\n",
       "\n",
       "# Print top similar molecules\n",
       "print(\"Top Similar Molecules:\")\n",
       "for mol, score in similarity_scores[:5]:\n",
       "    print(Chem.MolToSmiles(mol), score)\n",
       "\n",
       "# Calculate pharmacophoric similarity using 3D pharmacophore fingerprints\n",
       "active_pharm_fp = Generate3DPharmacophoreFingerprint(active_mol)\n",
       "similarity_scores_pharm = []\n",
       "for mol in suppl:\n",
       "    if mol is not None:\n",
       "        pharm_fp = Generate3DPharmacophoreFingerprint(mol)\n",
       "        similarity = DataStructs.TanimotoSimilarity(active_pharm_fp, pharm_fp)\n",
       "        similarity_scores_pharm.append((mol, similarity))\n",
       "\n",
       "# Sort molecules by pharmacophoric similarity score\n",
       "similarity_scores_pharm.sort(key=lambda x: x[1], reverse=True)\n",
       "\n",
       "# Print top similar molecules based on pharmacophoric similarity\n",
       "print(\"\nTop Similar Molecules (Pharmacophoric Similarity):\")\n",
       "for mol, score in similarity_scores_pharm[:5]:\n",
       "    print(Chem.MolToSmiles(mol), score)"
       ]
       },
       {
       "cell_type": "markdown",
       "metadata": {
       "id": "eOGiXODuyzM4"
       },
       "source": [
       "## Conclusion\n",
       "\n",
       "In this notebook, we explored practical examples of molecular representation, descriptor calculation, fingerprint generation, similarity measures, and scaffold hopping using the RDKit library. We learned how to:\n",
       "\n",
       "1. Convert molecules between SMILES and InChI representations\n",
       "2. Generate and visualize molecular graphs\n",
       "3. Calculate various molecular descriptors\n",
       "4. Generate molecular fingerprints and visualize them\n",
       "5. Compute similarity measures between molecules\n",
       "6. Apply molecular similarity for scaffold hopping\n",
       "\n",
       "These concepts form the foundation for more advanced topics in computational drug discovery, such as machine learning-based property prediction, virtual screening, and de novo drug design.\n",
       "\n",
       "By leveraging molecular representation, descriptors, fingerprints, and similarity measures, researchers can efficiently explore chemical space, identify promising compounds, and optimize lead candidates in the drug discovery process.\n",
       "\n",
       "Feel free to experiment with different molecules, explore additional descriptors and fingerprints available in RDKit, and apply these techniques to your own datasets and research problems.\n",
       "\n",
       "Happy exploring and discovering!"
       ]
       }
       ],
       "metadata": {
       "kernelspec": {
       "display_name": "Python 3",
       "language": "python",
       "name": "python3"
       },
       "language_info": {
       "codemirror_mode": {
       "name": "ipython",
       "version": 3
       },
       "file_extension": ".py",
       "mimetype": "text/x-python",
       "name": "python",
       "nbconvert_exporter": "python",
       "pygments_lexer": "ipython3",
       "version": "3.8.5"
       }
       },
       "nbformat": 4,
       "nbformat_minor": 4
       }